{
 "cells": [
  {
   "cell_type": "markdown",
   "id": "f77da1fb-8cb4-458d-8598-6f3b4fb68ac9",
   "metadata": {},
   "source": [
    "50 Beginner Foundation exercises"
   ]
  },
  {
   "cell_type": "markdown",
   "id": "001f475d-f502-46f9-80a2-0320e63977da",
   "metadata": {},
   "source": [
    "Section 1 - Basic Syntax and Variables"
   ]
  },
  {
   "cell_type": "code",
   "execution_count": 2,
   "id": "8129acb4-d6a2-4b00-8895-af2644e3c937",
   "metadata": {},
   "outputs": [
    {
     "name": "stdout",
     "output_type": "stream",
     "text": [
      "My name is Angba Grace\n",
      "I am 23 years old\n"
     ]
    }
   ],
   "source": [
    "#1.) print your name and age on separate lines\n",
    "print(\"My name is Angba Grace\")\n",
    "print(\"I am 23 years old\")"
   ]
  },
  {
   "cell_type": "code",
   "execution_count": 3,
   "id": "e625b4e7-78e9-47b3-8225-948532c9fc1d",
   "metadata": {},
   "outputs": [
    {
     "name": "stdout",
     "output_type": "stream",
     "text": [
      "My name is Grace. I am 23 years old and i live in Abuja\n"
     ]
    }
   ],
   "source": [
    "#2.) store your name, age and city in variables and print them using f-strings\n",
    "name = \"Grace\"\n",
    "age = 23\n",
    "city = \"Abuja\"\n",
    "print(f\"My name is {name}. I am {age} years old and i live in {city}\")"
   ]
  },
  {
   "cell_type": "code",
   "execution_count": 5,
   "id": "a98d71e9-dc73-46a7-a008-34a0e440a2bf",
   "metadata": {},
   "outputs": [
    {
     "name": "stdout",
     "output_type": "stream",
     "text": [
      "6\n",
      "5\n"
     ]
    }
   ],
   "source": [
    "#3.) swap two variables without using a third variable\n",
    "x = 5\n",
    "y = 6\n",
    "x, y = y, x\n",
    "print(x)\n",
    "print(y)"
   ]
  },
  {
   "cell_type": "code",
   "execution_count": 7,
   "id": "d234e093-64a5-480b-9b6c-66d4000a2c3e",
   "metadata": {},
   "outputs": [
    {
     "name": "stdin",
     "output_type": "stream",
     "text": [
      " 2\n",
      " 3\n"
     ]
    },
    {
     "name": "stdout",
     "output_type": "stream",
     "text": [
      "5.0\n"
     ]
    }
   ],
   "source": [
    "#4.) take 2 numbers as an input and print their sum\n",
    "num1 = float(input())\n",
    "num2 = float(input())\n",
    "print (num1 + num2)"
   ]
  },
  {
   "cell_type": "code",
   "execution_count": 8,
   "id": "70b5fc62-64c3-4dcb-b673-0fa76d25ef74",
   "metadata": {},
   "outputs": [
    {
     "name": "stdout",
     "output_type": "stream",
     "text": [
      "1244\n"
     ]
    }
   ],
   "source": [
    "#5.) convert a string \"1234\" to an integer and add 10\n",
    "string = \"1234\"\n",
    "add = int(string) + 10\n",
    "print(add)"
   ]
  },
  {
   "cell_type": "code",
   "execution_count": 9,
   "id": "ea0e7d72-bb21-44a0-addd-c900ce0bcc24",
   "metadata": {},
   "outputs": [
    {
     "name": "stdout",
     "output_type": "stream",
     "text": [
      "<class 'int'>\n",
      "<class 'float'>\n",
      "<class 'str'>\n",
      "<class 'bool'>\n"
     ]
    }
   ],
   "source": [
    "#6.) print the datatype of each of this 42, 3.14, \"python\", True\n",
    "print(type(42))\n",
    "print(type(3.14))\n",
    "print(type(\"python\"))\n",
    "print(type(True))"
   ]
  },
  {
   "cell_type": "code",
   "execution_count": 10,
   "id": "b914909a-be33-4604-aa8c-b3c1059def2b",
   "metadata": {},
   "outputs": [
    {
     "name": "stdin",
     "output_type": "stream",
     "text": [
      " hello\n"
     ]
    },
    {
     "name": "stdout",
     "output_type": "stream",
     "text": [
      "HELLO\n"
     ]
    }
   ],
   "source": [
    "#7.) take user input and print it in uppercase\n",
    "word = str(input())\n",
    "print(word.upper())"
   ]
  },
  {
   "cell_type": "code",
   "execution_count": 11,
   "id": "9983d112-e81e-4935-9238-41266af86270",
   "metadata": {},
   "outputs": [
    {
     "name": "stdout",
     "output_type": "stream",
     "text": [
      "7.96\n"
     ]
    }
   ],
   "source": [
    "#8.) round the number 7.95632 to 2 decimal places\n",
    "number = 7.95632\n",
    "print(round(number, 2))"
   ]
  },
  {
   "cell_type": "code",
   "execution_count": 13,
   "id": "0d14185a-0c91-4cf9-91bf-3e705b349c2b",
   "metadata": {},
   "outputs": [
    {
     "name": "stdout",
     "output_type": "stream",
     "text": [
      "10.0\n"
     ]
    }
   ],
   "source": [
    "#9.) create 3 variables and calculate their average\n",
    "a = 5\n",
    "b = 10\n",
    "c = 15\n",
    "avg = (a + b + c) / 3\n",
    "print(avg)"
   ]
  },
  {
   "cell_type": "code",
   "execution_count": 14,
   "id": "f654e821-0a41-47d5-8e1a-62fd29c7a497",
   "metadata": {},
   "outputs": [
    {
     "name": "stdin",
     "output_type": "stream",
     "text": [
      " 50\n"
     ]
    },
    {
     "name": "stdout",
     "output_type": "stream",
     "text": [
      "122.0\n"
     ]
    }
   ],
   "source": [
    "#10.) write a program that converts temperature from celsius to farenheit \n",
    "temp = float(input())\n",
    "farenheit = (temp * 1.8) + 32\n",
    "print(farenheit)"
   ]
  },
  {
   "cell_type": "markdown",
   "id": "cc912d82-2199-4682-b995-d60c3c2c50f2",
   "metadata": {},
   "source": [
    "Section 2 - Operators"
   ]
  },
  {
   "cell_type": "code",
   "execution_count": 16,
   "id": "4bc88794-6571-46f9-bba9-52797f134d37",
   "metadata": {},
   "outputs": [
    {
     "name": "stdin",
     "output_type": "stream",
     "text": [
      " 3\n",
      " 4\n"
     ]
    },
    {
     "name": "stdout",
     "output_type": "stream",
     "text": [
      "12.0\n",
      "14.0\n"
     ]
    }
   ],
   "source": [
    "#11.) Compute area and perimeter of a rectangle using input width and height\n",
    "width = float(input())\n",
    "length = float(input())\n",
    "area = length * width\n",
    "perimeter = (length + width) * 2\n",
    "print(area)\n",
    "print(perimeter)"
   ]
  },
  {
   "cell_type": "code",
   "execution_count": 17,
   "id": "bc5e4a72-e8bf-4830-8d7d-917e4f5b3d59",
   "metadata": {},
   "outputs": [
    {
     "name": "stdin",
     "output_type": "stream",
     "text": [
      " 4\n"
     ]
    },
    {
     "name": "stdout",
     "output_type": "stream",
     "text": [
      "Even\n"
     ]
    }
   ],
   "source": [
    "#12.) Check if a number is even or odd\n",
    "number = int(input())\n",
    "if number % 2 == 0:\n",
    "    print(\"Even\")\n",
    "else:\n",
    "    print(\"Odd\")"
   ]
  },
  {
   "cell_type": "code",
   "execution_count": 19,
   "id": "65787b27-e729-4bbc-a5d0-be9e9519c8d3",
   "metadata": {},
   "outputs": [
    {
     "name": "stdin",
     "output_type": "stream",
     "text": [
      " 3\n",
      " 2\n",
      " 1\n"
     ]
    },
    {
     "name": "stdout",
     "output_type": "stream",
     "text": [
      "num1 is the largest\n"
     ]
    }
   ],
   "source": [
    "#13.) Find the largest of three number\n",
    "num1 = float(input())\n",
    "num2 = float(input())\n",
    "num3 = float(input())\n",
    "if num2 < num1 > num3:\n",
    "    print(\"num1 is the largest\")\n",
    "elif num1 < num2 >  num3:\n",
    "    print(\"num2 is the largest\")\n",
    "else:\n",
    "    print(\"num3 is the largest\")"
   ]
  },
  {
   "cell_type": "code",
   "execution_count": 20,
   "id": "a0e8b578-f869-47bd-86dc-ecf6646ae837",
   "metadata": {},
   "outputs": [
    {
     "name": "stdin",
     "output_type": "stream",
     "text": [
      " 50\n",
      " 60\n",
      " 100\n"
     ]
    },
    {
     "name": "stdout",
     "output_type": "stream",
     "text": [
      "3000.0\n"
     ]
    }
   ],
   "source": [
    "#14.) compute simple interest using the formula (p*r*t) / 100\n",
    "p = float(input())\n",
    "r = float(input())\n",
    "t = float(input())\n",
    "simple_interest = (p * r * t) / 100\n",
    "print(simple_interest)"
   ]
  },
  {
   "cell_type": "code",
   "execution_count": 21,
   "id": "2d2ce48c-a5cc-44bd-87f2-53d9cb3e1db9",
   "metadata": {},
   "outputs": [
    {
     "name": "stdin",
     "output_type": "stream",
     "text": [
      " 40\n",
      " 40\n"
     ]
    },
    {
     "name": "stdout",
     "output_type": "stream",
     "text": [
      "Equal\n"
     ]
    }
   ],
   "source": [
    "#15.) check if two numbers are equal using comparison operators\n",
    "num1 = int(input())\n",
    "num2 = int(input())\n",
    "if num1 == num2:\n",
    "    print(\"Equal\")\n",
    "else:\n",
    "    print(\"Not Equal\")"
   ]
  },
  {
   "cell_type": "markdown",
   "id": "ca0f2cd7-4818-4913-9d10-c8002421d76d",
   "metadata": {},
   "source": [
    "Section 3 - Conditional Statements"
   ]
  },
  {
   "cell_type": "code",
   "execution_count": 3,
   "id": "39a9fa55-9f49-4ee0-89b8-76802c136306",
   "metadata": {},
   "outputs": [
    {
     "name": "stdin",
     "output_type": "stream",
     "text": [
      " 0\n"
     ]
    },
    {
     "name": "stdout",
     "output_type": "stream",
     "text": [
      "Zero\n"
     ]
    }
   ],
   "source": [
    "#16.) check if a number is positive, negative or zero\n",
    "num = float(input())\n",
    "if num == 0:\n",
    "    print(\"Zero\")\n",
    "elif num > 0:\n",
    "    print(\"Positive\")\n",
    "else:\n",
    "    print(\"Negative\")"
   ]
  },
  {
   "cell_type": "code",
   "execution_count": 4,
   "id": "89769b19-bdaf-490d-a8a9-d057f88c5ab3",
   "metadata": {},
   "outputs": [
    {
     "name": "stdin",
     "output_type": "stream",
     "text": [
      " 6\n"
     ]
    },
    {
     "name": "stdout",
     "output_type": "stream",
     "text": [
      "Minor\n"
     ]
    }
   ],
   "source": [
    "#17.) Take a users age and print \"Adult\" if user >= 18 else print minor\n",
    "age = int(input())\n",
    "if age >= 18:\n",
    "    print(\"Adult\")\n",
    "else:\n",
    "    print(\"Minor\")"
   ]
  },
  {
   "cell_type": "code",
   "execution_count": 14,
   "id": "3c3a83e3-9628-48cb-8504-ea4dcdc7fdd7",
   "metadata": {},
   "outputs": [
    {
     "name": "stdin",
     "output_type": "stream",
     "text": [
      " 2025\n"
     ]
    },
    {
     "name": "stdout",
     "output_type": "stream",
     "text": [
      "Not a leap year\n"
     ]
    }
   ],
   "source": [
    "#18.) determine if a year is a leap year\n",
    "#i really struggled here \n",
    "year = int(input())\n",
    "if year % 4 != 0:\n",
    "    print(\"Not a leap year\")\n",
    "elif year % 100 == 0:\n",
    "    if year % 400 == 0:\n",
    "        print(\"leap year\")\n",
    "    else:\n",
    "        print(\"Not a leap year\")\n",
    "else:\n",
    "    print(\"Leap year\")"
   ]
  },
  {
   "cell_type": "code",
   "execution_count": 22,
   "id": "7fc64b91-f583-4bdb-9e12-163863d10d28",
   "metadata": {},
   "outputs": [
    {
     "name": "stdin",
     "output_type": "stream",
     "text": [
      " t\n"
     ]
    },
    {
     "name": "stdout",
     "output_type": "stream",
     "text": [
      "Not Vowel\n"
     ]
    }
   ],
   "source": [
    "#19.) write a program to check if a letter is a vowel or consonant\n",
    "letter = str(input()).lower()\n",
    "if letter in ['a', 'e', 'i', 'o', 'u']:\n",
    "    print(\"Vowel\")\n",
    "else:\n",
    "    print(\"Not Vowel\")"
   ]
  },
  {
   "cell_type": "code",
   "execution_count": 24,
   "id": "a070490e-209a-4c5a-882f-611cc8141e0b",
   "metadata": {},
   "outputs": [
    {
     "name": "stdin",
     "output_type": "stream",
     "text": [
      " 59\n"
     ]
    },
    {
     "name": "stdout",
     "output_type": "stream",
     "text": [
      "F\n"
     ]
    }
   ],
   "source": [
    "#20.) Grade calculator: for grades 90-100 A, 80-89 B, 70-79 C, 60-69 D, below 60 = F \n",
    "grade = float(input())\n",
    "if grade >= 90 and grade <= 100:\n",
    "    print('A')\n",
    "elif grade >= 80 and grade <= 89:\n",
    "    print('B')\n",
    "elif grade >= 70 and grade <= 79:\n",
    "    print('C')\n",
    "elif grade >= 60 and grade <= 69:\n",
    "    print('D')\n",
    "else:\n",
    "    print('F')"
   ]
  },
  {
   "cell_type": "code",
   "execution_count": 25,
   "id": "ff3e0f68-bc70-40bf-a683-7f235dd06298",
   "metadata": {},
   "outputs": [
    {
     "name": "stdin",
     "output_type": "stream",
     "text": [
      " 5\n",
      " 4\n",
      " +\n"
     ]
    },
    {
     "name": "stdout",
     "output_type": "stream",
     "text": [
      "9.0\n"
     ]
    }
   ],
   "source": [
    "#21.)write a simple calculator +,-,/,* based on the user's input\n",
    "num1 = float(input())\n",
    "num2 = float(input())\n",
    "sign = input()\n",
    "if sign == '-':\n",
    "    print(num1 - num2)\n",
    "elif sign == '+':\n",
    "    print(num1 + num2)\n",
    "elif sign == '*':\n",
    "    print(num1 * num2)\n",
    "elif sign == '/':\n",
    "    print(num1 / num2)\n",
    "else:\n",
    "    print(\"Error\")"
   ]
  },
  {
   "cell_type": "code",
   "execution_count": 26,
   "id": "a6bfbcc7-14df-4362-bfa6-917fdb7c0473",
   "metadata": {},
   "outputs": [
    {
     "name": "stdin",
     "output_type": "stream",
     "text": [
      " 15\n"
     ]
    },
    {
     "name": "stdout",
     "output_type": "stream",
     "text": [
      "Divisible\n"
     ]
    }
   ],
   "source": [
    "#22.) Check if a number is divisible by both 3 and 5\n",
    "num = int(input())\n",
    "if (num % 3 == 0) and (num % 5 == 0):\n",
    "    print('Divisible')\n",
    "else:\n",
    "    print('Not Divisible')"
   ]
  },
  {
   "cell_type": "code",
   "execution_count": null,
   "id": "fdbb63d7-4844-4404-b3e2-7108b7ecb154",
   "metadata": {},
   "outputs": [],
   "source": []
  }
 ],
 "metadata": {
  "kernelspec": {
   "display_name": "Python 3 (ipykernel)",
   "language": "python",
   "name": "python3"
  },
  "language_info": {
   "codemirror_mode": {
    "name": "ipython",
    "version": 3
   },
   "file_extension": ".py",
   "mimetype": "text/x-python",
   "name": "python",
   "nbconvert_exporter": "python",
   "pygments_lexer": "ipython3",
   "version": "3.13.5"
  }
 },
 "nbformat": 4,
 "nbformat_minor": 5
}
