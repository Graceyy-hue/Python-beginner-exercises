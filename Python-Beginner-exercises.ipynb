{
 "cells": [
  {
   "cell_type": "markdown",
   "id": "f77da1fb-8cb4-458d-8598-6f3b4fb68ac9",
   "metadata": {},
   "source": [
    "50 Beginner Foundation exercises"
   ]
  },
  {
   "cell_type": "markdown",
   "id": "001f475d-f502-46f9-80a2-0320e63977da",
   "metadata": {},
   "source": [
    "Section 1 - Basic Syntax and Variables"
   ]
  },
  {
   "cell_type": "code",
   "execution_count": 2,
   "id": "8129acb4-d6a2-4b00-8895-af2644e3c937",
   "metadata": {},
   "outputs": [
    {
     "name": "stdout",
     "output_type": "stream",
     "text": [
      "My name is Angba Grace\n",
      "I am 23 years old\n"
     ]
    }
   ],
   "source": [
    "#1.) print your name and age on separate lines\n",
    "print(\"My name is Angba Grace\")\n",
    "print(\"I am 23 years old\")"
   ]
  },
  {
   "cell_type": "code",
   "execution_count": 3,
   "id": "e625b4e7-78e9-47b3-8225-948532c9fc1d",
   "metadata": {},
   "outputs": [
    {
     "name": "stdout",
     "output_type": "stream",
     "text": [
      "My name is Grace. I am 23 years old and i live in Abuja\n"
     ]
    }
   ],
   "source": [
    "#2.) store your name, age and city in variables and print them using f-strings\n",
    "name = \"Grace\"\n",
    "age = 23\n",
    "city = \"Abuja\"\n",
    "print(f\"My name is {name}. I am {age} years old and i live in {city}\")"
   ]
  },
  {
   "cell_type": "code",
   "execution_count": 5,
   "id": "a98d71e9-dc73-46a7-a008-34a0e440a2bf",
   "metadata": {},
   "outputs": [
    {
     "name": "stdout",
     "output_type": "stream",
     "text": [
      "6\n",
      "5\n"
     ]
    }
   ],
   "source": [
    "#3.) swap two variables without using a third variable\n",
    "x = 5\n",
    "y = 6\n",
    "x, y = y, x\n",
    "print(x)\n",
    "print(y)"
   ]
  },
  {
   "cell_type": "code",
   "execution_count": 7,
   "id": "d234e093-64a5-480b-9b6c-66d4000a2c3e",
   "metadata": {},
   "outputs": [
    {
     "name": "stdin",
     "output_type": "stream",
     "text": [
      " 2\n",
      " 3\n"
     ]
    },
    {
     "name": "stdout",
     "output_type": "stream",
     "text": [
      "5.0\n"
     ]
    }
   ],
   "source": [
    "#4.) take 2 numbers as an input and print their sum\n",
    "num1 = float(input())\n",
    "num2 = float(input())\n",
    "print (num1 + num2)"
   ]
  },
  {
   "cell_type": "code",
   "execution_count": 8,
   "id": "70b5fc62-64c3-4dcb-b673-0fa76d25ef74",
   "metadata": {},
   "outputs": [
    {
     "name": "stdout",
     "output_type": "stream",
     "text": [
      "1244\n"
     ]
    }
   ],
   "source": [
    "#5.) convert a string \"1234\" to an integer and add 10\n",
    "string = \"1234\"\n",
    "add = int(string) + 10\n",
    "print(add)"
   ]
  },
  {
   "cell_type": "code",
   "execution_count": 9,
   "id": "ea0e7d72-bb21-44a0-addd-c900ce0bcc24",
   "metadata": {},
   "outputs": [
    {
     "name": "stdout",
     "output_type": "stream",
     "text": [
      "<class 'int'>\n",
      "<class 'float'>\n",
      "<class 'str'>\n",
      "<class 'bool'>\n"
     ]
    }
   ],
   "source": [
    "#6.) print the datatype of each of this 42, 3.14, \"python\", True\n",
    "print(type(42))\n",
    "print(type(3.14))\n",
    "print(type(\"python\"))\n",
    "print(type(True))"
   ]
  },
  {
   "cell_type": "code",
   "execution_count": 10,
   "id": "b914909a-be33-4604-aa8c-b3c1059def2b",
   "metadata": {},
   "outputs": [
    {
     "name": "stdin",
     "output_type": "stream",
     "text": [
      " hello\n"
     ]
    },
    {
     "name": "stdout",
     "output_type": "stream",
     "text": [
      "HELLO\n"
     ]
    }
   ],
   "source": [
    "#7.) take user input and print it in uppercase\n",
    "word = str(input())\n",
    "print(word.upper())"
   ]
  },
  {
   "cell_type": "code",
   "execution_count": 11,
   "id": "9983d112-e81e-4935-9238-41266af86270",
   "metadata": {},
   "outputs": [
    {
     "name": "stdout",
     "output_type": "stream",
     "text": [
      "7.96\n"
     ]
    }
   ],
   "source": [
    "#8.) round the number 7.95632 to 2 decimal places\n",
    "number = 7.95632\n",
    "print(round(number, 2))"
   ]
  },
  {
   "cell_type": "code",
   "execution_count": 13,
   "id": "0d14185a-0c91-4cf9-91bf-3e705b349c2b",
   "metadata": {},
   "outputs": [
    {
     "name": "stdout",
     "output_type": "stream",
     "text": [
      "10.0\n"
     ]
    }
   ],
   "source": [
    "#9.) create 3 variables and calculate their average\n",
    "a = 5\n",
    "b = 10\n",
    "c = 15\n",
    "avg = (a + b + c) / 3\n",
    "print(avg)"
   ]
  },
  {
   "cell_type": "code",
   "execution_count": 14,
   "id": "f654e821-0a41-47d5-8e1a-62fd29c7a497",
   "metadata": {},
   "outputs": [
    {
     "name": "stdin",
     "output_type": "stream",
     "text": [
      " 50\n"
     ]
    },
    {
     "name": "stdout",
     "output_type": "stream",
     "text": [
      "122.0\n"
     ]
    }
   ],
   "source": [
    "#10.) write a program that converts temperature from celsius to farenheit \n",
    "temp = float(input())\n",
    "farenheit = (temp * 1.8) + 32\n",
    "print(farenheit)"
   ]
  },
  {
   "cell_type": "markdown",
   "id": "cc912d82-2199-4682-b995-d60c3c2c50f2",
   "metadata": {},
   "source": [
    "Section 2 - Operators"
   ]
  },
  {
   "cell_type": "code",
   "execution_count": 16,
   "id": "4bc88794-6571-46f9-bba9-52797f134d37",
   "metadata": {},
   "outputs": [
    {
     "name": "stdin",
     "output_type": "stream",
     "text": [
      " 3\n",
      " 4\n"
     ]
    },
    {
     "name": "stdout",
     "output_type": "stream",
     "text": [
      "12.0\n",
      "14.0\n"
     ]
    }
   ],
   "source": [
    "#11.) Compute area and perimeter of a rectangle using input width and height\n",
    "width = float(input())\n",
    "length = float(input())\n",
    "area = length * width\n",
    "perimeter = (length + width) * 2\n",
    "print(area)\n",
    "print(perimeter)"
   ]
  },
  {
   "cell_type": "code",
   "execution_count": 17,
   "id": "bc5e4a72-e8bf-4830-8d7d-917e4f5b3d59",
   "metadata": {},
   "outputs": [
    {
     "name": "stdin",
     "output_type": "stream",
     "text": [
      " 4\n"
     ]
    },
    {
     "name": "stdout",
     "output_type": "stream",
     "text": [
      "Even\n"
     ]
    }
   ],
   "source": [
    "#12.) Check if a number is even or odd\n",
    "number = int(input())\n",
    "if number % 2 == 0:\n",
    "    print(\"Even\")\n",
    "else:\n",
    "    print(\"Odd\")"
   ]
  },
  {
   "cell_type": "code",
   "execution_count": 19,
   "id": "65787b27-e729-4bbc-a5d0-be9e9519c8d3",
   "metadata": {},
   "outputs": [
    {
     "name": "stdin",
     "output_type": "stream",
     "text": [
      " 3\n",
      " 2\n",
      " 1\n"
     ]
    },
    {
     "name": "stdout",
     "output_type": "stream",
     "text": [
      "num1 is the largest\n"
     ]
    }
   ],
   "source": [
    "#13.) Find the largest of three number\n",
    "num1 = float(input())\n",
    "num2 = float(input())\n",
    "num3 = float(input())\n",
    "if num2 < num1 > num3:\n",
    "    print(\"num1 is the largest\")\n",
    "elif num1 < num2 >  num3:\n",
    "    print(\"num2 is the largest\")\n",
    "else:\n",
    "    print(\"num3 is the largest\")"
   ]
  },
  {
   "cell_type": "code",
   "execution_count": 20,
   "id": "a0e8b578-f869-47bd-86dc-ecf6646ae837",
   "metadata": {},
   "outputs": [
    {
     "name": "stdin",
     "output_type": "stream",
     "text": [
      " 50\n",
      " 60\n",
      " 100\n"
     ]
    },
    {
     "name": "stdout",
     "output_type": "stream",
     "text": [
      "3000.0\n"
     ]
    }
   ],
   "source": [
    "#14.) compute simple interest using the formula (p*r*t) / 100\n",
    "p = float(input())\n",
    "r = float(input())\n",
    "t = float(input())\n",
    "simple_interest = (p * r * t) / 100\n",
    "print(simple_interest)"
   ]
  },
  {
   "cell_type": "code",
   "execution_count": 21,
   "id": "2d2ce48c-a5cc-44bd-87f2-53d9cb3e1db9",
   "metadata": {},
   "outputs": [
    {
     "name": "stdin",
     "output_type": "stream",
     "text": [
      " 40\n",
      " 40\n"
     ]
    },
    {
     "name": "stdout",
     "output_type": "stream",
     "text": [
      "Equal\n"
     ]
    }
   ],
   "source": [
    "#15.) check if two numbers are equal using comparison operators\n",
    "num1 = int(input())\n",
    "num2 = int(input())\n",
    "if num1 == num2:\n",
    "    print(\"Equal\")\n",
    "else:\n",
    "    print(\"Not Equal\")"
   ]
  },
  {
   "cell_type": "code",
   "execution_count": null,
   "id": "39a9fa55-9f49-4ee0-89b8-76802c136306",
   "metadata": {},
   "outputs": [],
   "source": []
  }
 ],
 "metadata": {
  "kernelspec": {
   "display_name": "Python 3 (ipykernel)",
   "language": "python",
   "name": "python3"
  },
  "language_info": {
   "codemirror_mode": {
    "name": "ipython",
    "version": 3
   },
   "file_extension": ".py",
   "mimetype": "text/x-python",
   "name": "python",
   "nbconvert_exporter": "python",
   "pygments_lexer": "ipython3",
   "version": "3.13.5"
  }
 },
 "nbformat": 4,
 "nbformat_minor": 5
}
